{
 "cells": [
  {
   "cell_type": "code",
   "execution_count": 1,
   "metadata": {
    "collapsed": false
   },
   "outputs": [],
   "source": [
    "import csv\n",
    "import scipy\n",
    "import numpy as np\n",
    "\n",
    "with open('samples.csv') as csvfile:\n",
    "    readCSV = csv.reader(csvfile, delimiter=',')\n",
    "    \n",
    "    tempo=list()\n",
    "    ecg=list()\n",
    "    \n",
    "    for row in readCSV:\n",
    "        tempo.append(float(row[0]))\n",
    "        ecg.append(float(row[1]))\n",
    "        \n",
    "    from scipy import signal\n",
    "    peakind = signal.find_peaks_cwt(ecg, np.arange(1,1.5), noise_perc=10)\n",
    "    \n",
    "    picchi1=list()\n",
    "    tempopicchi1=list()\n",
    "    for i in peakind:\n",
    "        picchi1.append(float(ecg[i]))\n",
    "        tempopicchi1.append(float(tempo[i]))\n",
    "        \n",
    "    from scipy import signal\n",
    "    peakind2 = signal.find_peaks_cwt(picchi1, np.arange(1,1.5), noise_perc=10)\n",
    "    \n",
    "    \n",
    "    picchi2=list()\n",
    "    tempopicchi2=list()\n",
    "    for i in peakind2:\n",
    "        picchi2.append(float(picchi1[i]))\n",
    "        tempopicchi2.append(float(tempopicchi1[i]))\n",
    "        \n",
    "    import matplotlib.pyplot as plt\n",
    "    plt.plot(tempo, ecg, tempopicchi2, picchi2, 'ro')\n",
    "    plt.ylabel('Grafico ECG')\n",
    "    plt.show()"
   ]
  },
  {
   "cell_type": "code",
   "execution_count": null,
   "metadata": {
    "collapsed": true
   },
   "outputs": [],
   "source": []
  },
  {
   "cell_type": "code",
   "execution_count": null,
   "metadata": {
    "collapsed": true
   },
   "outputs": [],
   "source": []
  }
 ],
 "metadata": {
  "kernelspec": {
   "display_name": "Python 3",
   "language": "python",
   "name": "python3"
  },
  "language_info": {
   "codemirror_mode": {
    "name": "ipython",
    "version": 3
   },
   "file_extension": ".py",
   "mimetype": "text/x-python",
   "name": "python",
   "nbconvert_exporter": "python",
   "pygments_lexer": "ipython3",
   "version": "3.5.1"
  }
 },
 "nbformat": 4,
 "nbformat_minor": 0
}
